{
 "cells": [
  {
   "cell_type": "markdown",
   "id": "772c60c7-a1cc-4736-b1af-16045bf32936",
   "metadata": {},
   "source": [
    "https://www.youtube.com/watch?v=Q6COHive9CY&t=1482s\n",
    "\n",
    "How to interpret N(d1) and N(d2) in Black Scholes Merton\n",
    "https://www.youtube.com/watch?v=spkim5Ns304&t=15s\n",
    "    \n",
    "FRM: Lognormal distribution\n",
    "https://www.youtube.com/watch?v=9rMpraPPQ2A\n",
    "\n",
    "Lognormal property of stock prices assumed by Black-Scholes\n",
    "https://www.youtube.com/watch?v=K6SMfAnrIMg&t=23s\n",
    "\n",
    "Newton's Method\n",
    "https://www.youtube.com/watch?v=-5e2cULI3H8\n",
    "\n",
    "Probability Distribution Functions (PMF, PDF, CDF)\n",
    "https://www.youtube.com/watch?v=YXLVjCKVP7U"
   ]
  },
  {
   "cell_type": "code",
   "execution_count": null,
   "id": "40a5482f-4658-4dd6-bc9b-7dad594e3180",
   "metadata": {},
   "outputs": [],
   "source": [
    "from scipy.stats import norm\n",
    "from math import sqrt, exp, log, pi\n",
    "\n",
    "class d:\n",
    "    def __init__(self, sigma, S, K, r, t):\n",
    "        self.sigma =sigma\n",
    "        self.S = S\n",
    "        self.K = K\n",
    "        self.r = r\n",
    "        self.t = t\n",
    "        self.d1 = 1 / (self.sigma * sqrt(self.t)) * ( log(self.S/self.K) + (self.r + self.sigma**2/2) * self.t)\n",
    "        self.d2 = self.d1 - self.sigma * sqrt(self.t)\n",
    "    def call_price(self):\n",
    "        C = norm.cdf(self.d1) * self.S - norm.cdf(self.d2) * self.K * exp(-self.r * self.t)\n",
    "        return C"
   ]
  },
  {
   "cell_type": "code",
   "execution_count": null,
   "id": "f312816c-21b9-4fad-bbdc-885bad8dcc86",
   "metadata": {},
   "outputs": [],
   "source": [
    "test = d(0.5,100,105,0.01,30/365)\n",
    "test.d1\n",
    "print(test.call_price())"
   ]
  },
  {
   "cell_type": "code",
   "execution_count": null,
   "id": "f416ff6d-fd7d-4ca9-8e3d-887b6ac8aca6",
   "metadata": {},
   "outputs": [],
   "source": [
    "from scipy.stats import norm\n",
    "from math import sqrt, exp, log, pi\n",
    "\n",
    "def d(sigma, S, K, r, t):\n",
    "    d1 = 1 / (sigma * sqrt(t)) * ( log(S/K) + (r + sigma**2/2) * t)\n",
    "    d2 = d1 - sigma * sqrt(t)\n",
    "    return d1, d2\n",
    "\n",
    "def call_price(sigma, S, K, r, t, d1, d2):\n",
    "    C = norm.cdf(d1) * S - norm.cdf(d2) * K * exp(-r * t)\n",
    "    return C"
   ]
  },
  {
   "cell_type": "code",
   "execution_count": null,
   "id": "b339c5c1-b010-47f0-9f87-b652b6289ef4",
   "metadata": {},
   "outputs": [],
   "source": [
    "d1"
   ]
  },
  {
   "cell_type": "code",
   "execution_count": null,
   "id": "0000635c-8276-4e59-a032-ee47c36994f8",
   "metadata": {},
   "outputs": [],
   "source": [
    "T = 1\n",
    "N = 3\n",
    "M = 5\n",
    "dt = T/N\n",
    "div = 0.06\n",
    "sig = 0.06\n",
    "t = [0,2,10]\n",
    "nudt = np.zeros(N)\n",
    "for i in range(1,N):\n",
    "    nudt[i] = (r - div - 0.5*sig**2) * (t[i] - t[i-1])"
   ]
  },
  {
   "cell_type": "code",
   "execution_count": null,
   "id": "c3715113-7ed2-4ce3-a71c-73637ea21706",
   "metadata": {},
   "outputs": [],
   "source": [
    "#  S  = Stock price\n",
    "#  K  = strike\n",
    "#  C  = price of call as predicted by Black-Scholes model\n",
    "#  r  = risk-free interest rate\n",
    "#  t  = time to expiration expressed in years\n",
    "#  C0 = price of call option from option chain\n",
    "\n",
    "S = 100.0\n",
    "K = 105.0\n",
    "r = 0.01\n",
    "t = 30.0/365\n",
    "C0 = 2.30\n",
    "\n",
    "#  We need a starting guess for the implied volatility.  We chose 0.5\n",
    "#  arbitrarily.\n",
    "vol = 0.5"
   ]
  },
  {
   "cell_type": "code",
   "execution_count": null,
   "id": "0d9cfc5d-cc2a-43d7-8ba6-041e28960270",
   "metadata": {},
   "outputs": [],
   "source": [
    "d1,d2 = d(vol, S, K, r, t)\n",
    "d1"
   ]
  },
  {
   "cell_type": "code",
   "execution_count": null,
   "id": "fd252bf1-654a-4d97-851f-c0fb14193050",
   "metadata": {},
   "outputs": [],
   "source": [
    "epsilon = 1.0          #  Define variable to check stopping conditions\n",
    "abstol = 0.00001         #  Stop calculation when abs(epsilon) < this number\n",
    "\n",
    "i = 0                  #  Variable to count number of iterations\n",
    "max_iter = 1000         #  Max number of iterations before aborting"
   ]
  },
  {
   "cell_type": "code",
   "execution_count": null,
   "id": "f5b758a4-5425-46fb-a636-ac0e0c3b8545",
   "metadata": {},
   "outputs": [],
   "source": [
    "while epsilon > abstol:\n",
    "    #  if-statement to avoid getting stuck in an infinite loop.\n",
    "    if i > max_iter:\n",
    "        print('Program failed to find a root.  Exiting.')\n",
    "        break\n",
    "\n",
    "    i = i + 1\n",
    "    orig = vol\n",
    "    d1, d2 = d(vol, S, K, r, t)\n",
    "    function_value = call_price(vol, S, K, r, t, d1, d2) - C0\n",
    "    vega = S * norm.pdf(d1) * sqrt(t)\n",
    "    vol = -function_value/vega + vol\n",
    "    epsilon = abs(function_value)\n",
    "\n",
    "print('Implied volatility = ',  vol)\n",
    "print('Code required', i, 'iterations.')"
   ]
  },
  {
   "cell_type": "code",
   "execution_count": null,
   "id": "15efd566-2776-4768-92d2-43ef42c8d65d",
   "metadata": {},
   "outputs": [],
   "source": [
    "import matplotlib.pyplot as plt\n",
    "import numpy as np"
   ]
  },
  {
   "cell_type": "code",
   "execution_count": null,
   "id": "b8508d51-e02b-43d5-b5a6-7e270a5d340d",
   "metadata": {},
   "outputs": [],
   "source": [
    "for ii in range(99.0,102.0,0.1):\n",
    "    print(ii)"
   ]
  },
  {
   "cell_type": "code",
   "execution_count": null,
   "id": "e889b146-c47a-47ba-8476-3bae45847238",
   "metadata": {
    "tags": []
   },
   "outputs": [],
   "source": [
    "S = 100.0\n",
    "K = 105.0\n",
    "r = 0.01\n",
    "t = 30.0/365\n",
    "C0 = 35.30\n",
    "vol_ = []\n",
    "for ii in np.linspace(97,103,100):\n",
    "    vol = 0.5\n",
    "    K = ii\n",
    "    epsilon = 1.0          #  Define variable to check stopping conditions\n",
    "    abstol = 0.00001         #  Stop calculation when abs(epsilon) < this number\n",
    "    i = 0                  #  Variable to count number of iterations\n",
    "    max_iter = 1000\n",
    "#     if (S - K) < 0:\n",
    "#         C0 = 1/abs(S-K)\n",
    "#     else:\n",
    "#         C0 =(S-K)+ 0.5\n",
    "    C0 = 3.5\n",
    "    #d1,d2 = d(sigma, S, K, r, t)\n",
    "    while epsilon > abstol:\n",
    "        #  if-statement to avoid getting stuck in an infinite loop.\n",
    "        if i > max_iter:\n",
    "            print('Program failed to find a root.  Exiting.')\n",
    "            break\n",
    "\n",
    "        i = i + 1\n",
    "        orig = vol\n",
    "        d1, d2 = d(vol, S, K, r, t)\n",
    "        function_value = call_price(vol, S, K, r, t, d1, d2) - C0\n",
    "        vega = S * norm.pdf(d1) * sqrt(t)\n",
    "        vol = -function_value/vega + vol\n",
    "        epsilon = abs(function_value)\n",
    "    vol_.append(vol)\n",
    "    print(S, K, C0)\n",
    "print(vol_)"
   ]
  },
  {
   "cell_type": "code",
   "execution_count": null,
   "id": "ac716b27-5fba-4d3c-afa7-9f43e2e7b5b0",
   "metadata": {},
   "outputs": [],
   "source": [
    "import matplotlib.pyplot as plt\n",
    "from scipy.stats import norm\n",
    "\n",
    "%matplotlib inline"
   ]
  },
  {
   "cell_type": "code",
   "execution_count": null,
   "id": "bb6c963e-1bec-485b-9a3d-36550cf38621",
   "metadata": {},
   "outputs": [],
   "source": [
    "plt.plot(np.linspace(97,103,100), vol_, '.')"
   ]
  },
  {
   "cell_type": "code",
   "execution_count": null,
   "id": "891aa9d6-d772-4c03-8b00-85a708e40edc",
   "metadata": {},
   "outputs": [],
   "source": [
    "\n",
    "def d(sigma, S, K, r, t):\n",
    "    d1 = 1 / (sigma * sqrt(t)) * ( log(S/K) + (r + sigma**2/2) * t)\n",
    "    d2 = d1 - sigma * sqrt(t)\n",
    "    return d1, d2\n",
    "\n",
    "def call_price(sigma, S, K, r, t, d1, d2):\n",
    "    C = norm.cdf(d1) * S - norm.cdf(d2) * K * exp(-r * t)\n",
    "    return C\n",
    "\n",
    "#  S  = spot\n",
    "#  K  = strike\n",
    "#  C  = price of call as predicted by Black-Scholes model\n",
    "#  r  = risk-free interest rate\n",
    "#  t  = time to expiration expressed in years\n",
    "#  C0 = price of call option from option chain\n",
    "\n",
    "S = 100.0\n",
    "K = 105.0\n",
    "r = 0.01\n",
    "t = 30.0/365\n",
    "C0 = 2.30\n",
    "\n",
    "#  We need a starting guess for the implied volatility.  We chose 0.5\n",
    "#  arbitrarily.\n",
    "vol = 0.5\n",
    "\n",
    "epsilon = 1.0  #  Define variable to check stopping conditions\n",
    "abstol = 1e-4  #  Stop calculation when abs(epsilon) < this number\n",
    "\n",
    "i = 0   #  Variable to count number of iterations\n",
    "max_iter = 1e3  #  Max number of iterations before aborting\n",
    "\n",
    "while epsilon > abstol:\n",
    "    #  if-statement to avoid getting stuck in an infinite loop.\n",
    "    if i > max_iter:\n",
    "        break\n",
    "\n",
    "    i = i + 1\n",
    "    orig = vol\n",
    "    d1, d2 = d(vol, S, K, r, t)\n",
    "    function_value = call_price(vol, S, K, r, t, d1, d2) - C0\n",
    "    vega = S * norm.pdf(d1) * sqrt(t)\n",
    "    vol = -function_value/vega + vol\n",
    "    epsilon = abs(function_value)\n",
    "\n",
    "print('Implied volatility = ',  vol)\n",
    "print('Code required', i, 'iterations.')"
   ]
  },
  {
   "cell_type": "code",
   "execution_count": null,
   "id": "32afd44f-ca23-432d-b46f-28b1104c388b",
   "metadata": {},
   "outputs": [],
   "source": [
    "call_price(0.5, S, K, r, t, d1, d2)"
   ]
  },
  {
   "cell_type": "code",
   "execution_count": null,
   "id": "ddd7495a-3041-4717-b71f-b163577e383f",
   "metadata": {},
   "outputs": [],
   "source": [
    "import numpy as np\n",
    "# Initialise parameters\n",
    "S0 = 100      # initial stock price\n",
    "K = 100       # strike price\n",
    "T = 1         # time to maturity in years\n",
    "r = 0.06      # annual risk-free rate\n",
    "N = 3         # number of time steps\n",
    "u = 1.1       # up-factor in binomial models\n",
    "d = 1/u       # ensure recombining tree\n",
    "opttype = 'C' # Option Type 'C' or 'P'\n",
    "def binomial_tree_slow(K,T,S0,r,N,u,d,opttype='C'):\n",
    "    #precompute constants\n",
    "    dt = T/N\n",
    "    q = (np.exp(r*dt) - d) / (u-d)\n",
    "    disc = np.exp(-r*dt)\n",
    "    \n",
    "    # initialise asset prices at maturity - Time step N\n",
    "    S = np.zeros(N+1)\n",
    "    S[0] = S0*d**N\n",
    "    for j in range(1,N+1):\n",
    "        S[j] = S[j-1]*u/d\n",
    "    \n",
    "    # initialise option values at maturity\n",
    "    C = np.zeros(N+1)\n",
    "    for j in range(0,N+1):\n",
    "        C[j] = max(0, S[j]-K)\n",
    "        \n",
    "    # step backwards through tree\n",
    "    for i in np.arange(N,0,-1):\n",
    "        for j in range(0,i):\n",
    "            C[j] = disc * ( q*C[j+1] + (1-q)*C[j] )\n",
    "    \n",
    "    return C[0]\n",
    "binomial_tree_slow(K,T,S0,r,N,u,d,opttype='C')"
   ]
  },
  {
   "cell_type": "code",
   "execution_count": null,
   "id": "860d388c-dc6f-4220-b7c5-2ca36a904c67",
   "metadata": {},
   "outputs": [],
   "source": [
    "def binomial_tree_fast(K,T,S0,r,N,u,d,opttype='C'):\n",
    "    #precompute constants\n",
    "    dt = T/N\n",
    "    q = (np.exp(r*dt) - d) / (u-d)\n",
    "    disc = np.exp(-r*dt)\n",
    "    \n",
    "    # initialise asset prices at maturity - Time step N\n",
    "    C = S0 * d ** (np.arange(N,-1,-1)) * u ** (np.arange(0,N+1,1)) \n",
    "    \n",
    "    # initialise option values at maturity\n",
    "    C = np.maximum( C - K , np.zeros(N+1) )\n",
    "        \n",
    "    # step backwards through tree\n",
    "    for i in np.arange(N,0,-1):\n",
    "        C = disc * ( q * C[1:i+1] + (1-q) * C[0:i] )\n",
    "    \n",
    "    return C[0],C\n",
    "binomial_tree_fast(K,T,S0,r,N,u,d,opttype='C')"
   ]
  },
  {
   "cell_type": "code",
   "execution_count": null,
   "id": "393cff17-91e3-4d2b-8399-836da043aec9",
   "metadata": {},
   "outputs": [],
   "source": [
    "C = np.array([1,2,3,4,5,6])\n",
    "0.1 * ( 0.6 * C[1:5+1] + (1-0.6) * C[0:5] )"
   ]
  },
  {
   "cell_type": "code",
   "execution_count": null,
   "id": "ea7abf7f-221f-4928-bf33-4dee76a7b151",
   "metadata": {},
   "outputs": [],
   "source": [
    "C = S0 * d ** (np.arange(N,-1,-1)) * u ** (np.arange(0,N+1,1)) \n",
    "C"
   ]
  },
  {
   "cell_type": "code",
   "execution_count": null,
   "id": "8900e9e3-9cbd-4dc7-9985-d8f08d745909",
   "metadata": {},
   "outputs": [],
   "source": [
    "C = np.maximum( C - K , np.zeros(N+1) )\n",
    "C"
   ]
  },
  {
   "cell_type": "code",
   "execution_count": null,
   "id": "dd59508b-0b97-4416-a9ad-fe8bed419aa8",
   "metadata": {},
   "outputs": [],
   "source": [
    "print(2 * 2 ** (np.arange(0,3)) * 2 ** (np.arange(0,3)))\n",
    "print(2 ** (np.arange(0,3)))\n",
    "print(2 ** (np.arange(0,3)) * 2 ** (np.arange(0,3)))"
   ]
  },
  {
   "cell_type": "code",
   "execution_count": null,
   "id": "3bfb27e2-b519-4928-a363-b1cdfbae2e5e",
   "metadata": {},
   "outputs": [],
   "source": [
    "np.array([1 ,2, 4]) * np.array([1, 2 ,4])"
   ]
  },
  {
   "cell_type": "code",
   "execution_count": null,
   "id": "009c37af-4c9f-4e0c-811e-2d2276ef4307",
   "metadata": {},
   "outputs": [],
   "source": [
    "x = 1 * 2 ** (np.arange(3,-1,-1)) * 1 ** (np.arange(0,3+1,1)) \n",
    "x"
   ]
  },
  {
   "cell_type": "code",
   "execution_count": null,
   "id": "325f5bf2-b74e-4303-bc44-2a27f344049a",
   "metadata": {},
   "outputs": [],
   "source": [
    "np.arange(3,-1,-1)"
   ]
  },
  {
   "cell_type": "code",
   "execution_count": null,
   "id": "8b9930e3-c468-4d6f-8b74-324c99f8f5d5",
   "metadata": {},
   "outputs": [],
   "source": [
    "np.arange(3,-1,-1) * 2"
   ]
  },
  {
   "cell_type": "code",
   "execution_count": null,
   "id": "36f19ef6-d418-46d5-99f1-eba1442c7266",
   "metadata": {},
   "outputs": [],
   "source": [
    "np.arange(0,3+1,1)"
   ]
  },
  {
   "cell_type": "code",
   "execution_count": null,
   "id": "febbf910-7d94-4821-b27f-d61fac7b9464",
   "metadata": {},
   "outputs": [],
   "source": [
    "2**(np.arange(0,3+1,1)) # 2**[0,1,2,3]"
   ]
  },
  {
   "cell_type": "code",
   "execution_count": null,
   "id": "37148f7f-0e0c-4557-bff8-71818a46d9ea",
   "metadata": {},
   "outputs": [],
   "source": [
    "2**0"
   ]
  },
  {
   "cell_type": "code",
   "execution_count": null,
   "id": "a358965a-32b8-4f56-9983-93bb15f3c358",
   "metadata": {},
   "outputs": [],
   "source": [
    "x = [1,2,3,4,5]\n",
    "2**np.array(x)"
   ]
  },
  {
   "cell_type": "code",
   "execution_count": null,
   "id": "f6b5193c-51b8-4aae-8c77-af68b112aef6",
   "metadata": {},
   "outputs": [],
   "source": [
    "np.array(x)**2"
   ]
  },
  {
   "cell_type": "code",
   "execution_count": null,
   "id": "95680dc4-f082-40a4-80b2-d4b97d7c74e5",
   "metadata": {},
   "outputs": [],
   "source": [
    "2*2*2*2*2"
   ]
  },
  {
   "cell_type": "code",
   "execution_count": null,
   "id": "3fa12447-7db2-49c8-9b48-f04b64421655",
   "metadata": {},
   "outputs": [],
   "source": [
    "5*5"
   ]
  },
  {
   "cell_type": "code",
   "execution_count": null,
   "id": "f0aab23e-c54f-4eae-a65f-e4dcb1d77cc7",
   "metadata": {},
   "outputs": [],
   "source": [
    "import numpy as np\n",
    "import matplotlib.pyplot as plt\n",
    "\n",
    "# Define the model parameters\n",
    "S0 = 100   # initial stock price\n",
    "K = 110    # strike price\n",
    "T = 1      # time to expiration (in years)\n",
    "r = 0.05   # risk-free interest rate\n",
    "sigma = 0.2   # volatility\n",
    "M = 252   # number of time steps\n",
    "\n",
    "# Calculate the time step size\n",
    "dt = T/M\n",
    "\n",
    "# Generate the simulated stock prices\n",
    "t = np.linspace(0, T, M+1)\n",
    "S = np.zeros(M+1)\n",
    "S[0] = S0\n",
    "for i in range(1, M+1):\n",
    "    dW = np.random.normal(0, np.sqrt(dt))\n",
    "    S[i] = S[i-1] * np.exp((r - 0.5*sigma**2)*dt + sigma*dW)\n",
    "\n",
    "# Plot the simulated stock prices over time\n",
    "plt.plot(t, S)\n",
    "plt.xlabel(\"Time\")\n",
    "plt.ylabel(\"Stock Price\")\n",
    "plt.title(\"Simulated Stock Price\")\n",
    "plt.show()"
   ]
  },
  {
   "cell_type": "code",
   "execution_count": null,
   "id": "62988ee8-58ca-4471-9566-9589c9705836",
   "metadata": {},
   "outputs": [],
   "source": [
    "N = 2\n",
    "M = 3\n",
    "S = np.zeros((N, M+1))\n",
    "S"
   ]
  },
  {
   "cell_type": "code",
   "execution_count": null,
   "id": "87692500-8815-4f24-aba1-b05f6459223f",
   "metadata": {},
   "outputs": [],
   "source": [
    "import numpy as np\n",
    "\n",
    "# Define the model parameters\n",
    "S0 = 100   # initial stock price\n",
    "K = 110    # strike price\n",
    "T = 1      # time to expiration (in years)\n",
    "r = 0.05   # risk-free interest rate\n",
    "sigma = 0.2   # volatility\n",
    "N = 10000  # number of simulations\n",
    "M = 252   # number of time steps\n",
    "\n",
    "# Generate the simulated stock prices\n",
    "dt = T/M\n",
    "S = np.zeros((N, M+1))\n",
    "S[:,0] = S0\n",
    "for i in range(1, M+1):\n",
    "    dW = np.random.normal(0, np.sqrt(dt), size=N)\n",
    "    S[:,i] = S[:,i-1] * np.exp((r - 0.5*sigma**2)*dt + sigma*dW)\n",
    "\n",
    "# Initialize the option values\n",
    "C = np.maximum(0, S - K)   # European call option values at each time step\n",
    "A = C.copy()   # American call option values at each time step\n",
    "\n",
    "# Work backwards to calculate the option values at each time step\n",
    "for t in range(M-1, -1, -1):\n",
    "    # Calculate the expected payoff of exercising the option early\n",
    "    early_payoff = np.maximum(0, S[:,t] - K)\n",
    "    \n",
    "    # Update the option values at each time step\n",
    "    A[:,t] = np.maximum(early_payoff, np.exp(-r*dt)*(A[:,t+1] - r*S[:,t+1]*dt))\n",
    "\n",
    "# Calculate the expected payoff of the option\n",
    "expected_payoff = np.mean(A[:,0])\n",
    "\n",
    "# Discount the expected payoff\n",
    "option_value = expected_payoff * np.exp(-r*T)\n",
    "\n",
    "print(\"Option value:\", option_value)\n"
   ]
  },
  {
   "cell_type": "code",
   "execution_count": null,
   "id": "aeef5344-407c-4e45-a8b4-af10ddbc5322",
   "metadata": {},
   "outputs": [],
   "source": [
    "import matplotlib.pyplot as plt\n",
    "\n",
    "# Simulate the option prices using the Monte Carlo method\n",
    "option_prices = np.maximum(S[:, -1] - K, 0)\n",
    "option_prices = np.maximum(option_prices, np.zeros_like(option_prices))  # apply early exercise condition\n",
    "\n",
    "# Plot a histogram of the option prices\n",
    "plt.hist(option_prices, bins=50)\n",
    "plt.xlabel('Option Price')\n",
    "plt.ylabel('Frequency')\n",
    "plt.title('Distribution of American Call Option Prices')\n",
    "plt.show()"
   ]
  },
  {
   "cell_type": "code",
   "execution_count": null,
   "id": "663cddf3-937f-41b9-810b-5f0e5cfa9236",
   "metadata": {},
   "outputs": [],
   "source": [
    "import numpy as np\n",
    "from scipy.stats import norm\n",
    "# Function to price continuously monitored barrier options with closed-form solutions.\n",
    "def barrier_analytical(S, K, H, T, r, q, sigma, t=0, n_obs=3):\n",
    "    \n",
    "    \"\"\" Use n_obs=-1 for continuous monitoring \"\"\"\n",
    "    \n",
    "    tau = T - t\n",
    "    # Black Scholes call and put prices\n",
    "    d1 = (np.log(S/K) + (r-q + 0.5 * sigma**2) * tau) / (sigma * np.sqrt(tau))\n",
    "    d2 = (np.log(S/K) + (r-q - 0.5 * sigma**2) * tau) / (sigma * np.sqrt(tau))\n",
    "    C = S * np.exp(-q*tau) * norm.cdf(d1) - K * np.exp(-r*tau) * norm.cdf(d2)\n",
    "    P = K * np.exp(-r*tau) * norm.cdf(-d2) - S * np.exp(-q*tau) * norm.cdf(-d1)\n",
    "    \n",
    "    # Adjustment to barrier for discrete monitoring\n",
    "    if n_obs > 0:\n",
    "        H = H*np.exp(np.sign(H-S0)*0.5826*sigma*np.sqrt(T/n_obs))\n",
    "    \n",
    "    # Parameters\n",
    "    gamma = (r - q + 0.5*sigma**2) / sigma**2\n",
    "    eta = np.log((H**2)/(S*K)) / (sigma*np.sqrt(tau)) + gamma*sigma*np.sqrt(tau)\n",
    "    nu = np.log(S/H) / (sigma*np.sqrt(tau)) + gamma*sigma*np.sqrt(tau)\n",
    "    lmbda = np.log(H/S) / (sigma*np.sqrt(tau)) + gamma*sigma*np.sqrt(tau)\n",
    "    \n",
    "    if H < K:\n",
    "        # calls\n",
    "        C_di = S*np.exp(-q*tau) * (H/S)**(2*gamma) * norm.cdf(eta) \\\n",
    "               - K*np.exp(-r*tau) * (H/S)**(2*gamma-2) * norm.cdf(eta - sigma*np.sqrt(tau))\n",
    "        C_do = C - C_di\n",
    "        C_uo = 0\n",
    "        C_ui = C\n",
    "        # puts\n",
    "        if H <= S:\n",
    "            P_ui = P\n",
    "            P_uo = 0\n",
    "        else:\n",
    "            P_uo = - S*np.exp(-q*tau) * norm.cdf(-nu) + K*np.exp(-r*tau) * norm.cdf(-nu + sigma*np.sqrt(tau)) \\\n",
    "                   + S*np.exp(-q*tau) * (H/S)**(2*gamma) * norm.cdf(-lmbda) \\\n",
    "                   - K*np.exp(-r*tau) * (H/S)**(2*gamma-2) * norm.cdf(-lmbda + sigma*np.sqrt(tau))\n",
    "            P_ui = P - P_uo\n",
    "        P_di = - S*np.exp(-q*tau) * norm.cdf(-nu) + K*np.exp(-r*tau) * norm.cdf(-nu + sigma*np.sqrt(tau)) \\\n",
    "               + S*np.exp(-q*tau) * (H/S)**(2*gamma) * (norm.cdf(eta)-norm.cdf(lmbda)) \\\n",
    "               - K*np.exp(-r*tau) * (H/S)**(2*gamma-2) * (norm.cdf(eta-sigma*np.sqrt(tau))-norm.cdf(lmbda-sigma*np.sqrt(tau)))\n",
    "        P_do = P - P_di\n",
    "    elif H >= K:\n",
    "        # calls\n",
    "        if H >= S:\n",
    "            C_di = C\n",
    "            C_do = 0\n",
    "        else:\n",
    "            C_do = S*np.exp(-q*tau) * norm.cdf(nu) - K*np.exp(-r*tau) * norm.cdf(nu-sigma*np.sqrt(tau)) \\\n",
    "                   - S*np.exp(-q*tau) * (H/S)**(2*gamma) * norm.cdf(lmbda) \\\n",
    "                   + K*np.exp(-r*tau) * (H/S)**(2*gamma-2) * norm.cdf(lmbda-sigma*np.sqrt(tau))\n",
    "            C_di = C - C_do\n",
    "        C_ui = S*np.exp(-q*tau) * norm.cdf(nu) - K*np.exp(-r*tau) * norm.cdf(nu-sigma*np.sqrt(tau)) \\\n",
    "               - S*np.exp(-q*tau) * (H/S)**(2*gamma) * (norm.cdf(-eta)-norm.cdf(-lmbda)) \\\n",
    "               + K*np.exp(-r*tau) * (H/S)**(2*gamma-2) * (norm.cdf(-eta+sigma*np.sqrt(tau))-norm.cdf(-lmbda+sigma*np.sqrt(tau)))   \n",
    "        C_uo = C - C_ui\n",
    "        # puts\n",
    "        P_ui = - S*np.exp(-q*tau) * (H/S)**(2*gamma) * norm.cdf(-eta) \\\n",
    "               + K*np.exp(-r*tau) * (H/S)**(2*gamma-2) * norm.cdf(-eta + sigma*np.sqrt(tau))\n",
    "        P_uo = P - P_ui\n",
    "        P_di = P\n",
    "        P_do = 0\n",
    "        \n",
    "    return C_di, C_do, C_ui, C_uo, P_di, P_do, P_ui, P_uo   \n",
    "        \n",
    "# Parameters\n",
    "T = 1      # maturity (years)\n",
    "S0 = 100    # spot price\n",
    "K = 90    # strike price\n",
    "H = 95     # Barrier\n",
    "r = 0.06   # risk-free interest rate\n",
    "q = 0.0   # dividend rate\n",
    "sigma = 0.2 # volatility\n",
    "\n",
    "# Option prices\n",
    "C_di, C_do, C_ui, C_uo, P_di, P_do, P_ui, P_uo = barrier_analytical(S0, K, H, T, r, q, sigma, 0, n_obs=-1)\n",
    "\n",
    "print('Down-and-in call:  ' + str(round(C_di, 4)))\n",
    "print('Down-and-out call: ' + str(round(C_do, 4)))\n",
    "print('Up-and-in call:    ' + str(round(C_ui, 4)))\n",
    "print('Up-and-out call:   ' + str(round(C_uo, 4)))\n",
    "print('Down-and-in put:   ' + str(round(P_di, 4)))\n",
    "print('Down-and-out put:  ' + str(round(P_do, 4)))\n",
    "print('Up-and-in put:     ' + str(round(P_ui, 4)))\n",
    "print('Up-and-out put:    ' + str(round(P_uo, 4)))"
   ]
  },
  {
   "cell_type": "code",
   "execution_count": null,
   "id": "2b7828d3-b432-41e0-bcb9-aa8f1a0060a8",
   "metadata": {},
   "outputs": [],
   "source": [
    "import numpy as np\n",
    "from math import exp, sqrt, log\n",
    "\n",
    "import numpy as np\n",
    "\n",
    "def european_down_and_in_call_barrier_option_price(S, K, H, r, sigma, T, steps):\n",
    "    dt = T / steps\n",
    "    u = np.exp(sigma * np.sqrt(dt))\n",
    "    d = 1 / u\n",
    "    p = (np.exp(r * dt) - d) / (u - d)\n",
    "\n",
    "    barrier_crossed = False\n",
    "    if H <= S:\n",
    "        barrier_crossed = True\n",
    "        S = 0\n",
    "\n",
    "    # Calculate the terminal stock price at each final node\n",
    "    stock_price = np.zeros((steps+1, steps+1))\n",
    "    for i in range(steps+1):\n",
    "        for j in range(i+1):\n",
    "            stock_price[i, j] = S * (u ** j) * (d ** (i - j))\n",
    "\n",
    "    # Calculate the option value at the final node\n",
    "    option_value = np.zeros((steps+1, steps+1))\n",
    "    for j in range(steps+1):\n",
    "        if barrier_crossed:\n",
    "            option_value[steps, j] = 0\n",
    "        else:\n",
    "            option_value[steps, j] = max(stock_price[steps, j] - K, 0)\n",
    "\n",
    "    # Calculate the option value at all other nodes\n",
    "    for i in range(steps-1, -1, -1):\n",
    "        for j in range(i+1):\n",
    "            if stock_price[i, j] < H:\n",
    "                barrier_crossed = True\n",
    "                option_value[i, j] = 0\n",
    "            else:\n",
    "                option_value[i, j] = np.exp(-r * dt) * (p * option_value[i+1, j+1] + (1-p) * option_value[i+1, j])\n",
    "\n",
    "    return option_value[0, 0]\n",
    "\n",
    "# Test the function\n",
    "S = 100\n",
    "K = 100\n",
    "H = 120\n",
    "r = 0.06\n",
    "sigma = 0.2\n",
    "T = 1\n",
    "steps = 1000\n",
    "\n",
    "price = european_down_and_in_call_barrier_option_price(S, K, H, r, sigma, T, steps)\n",
    "print(price)\n"
   ]
  },
  {
   "cell_type": "code",
   "execution_count": null,
   "id": "08fe1394-9821-49f3-a099-7266d2baff93",
   "metadata": {},
   "outputs": [],
   "source": [
    "import yfinance as yf\n",
    "import numpy as np\n",
    "# Download historical stock prices of Apple\n",
    "apple_stock = yf.download('AAPL', start='2022-03-01', end='2023-03-01')\n",
    "\n",
    "# Calculate daily returns\n",
    "daily_returns = apple_stock['Adj Close'].pct_change()\n",
    "\n",
    "# Calculate annualized mu and sigma\n",
    "mu = daily_returns.mean() * 252\n",
    "sigma = daily_returns.std() * np.sqrt(252)\n",
    "\n",
    "print('Expected return (mu):', mu)\n",
    "print('Volatility (sigma):', sigma)"
   ]
  },
  {
   "cell_type": "code",
   "execution_count": 1,
   "id": "75c02e55-cfe1-478c-b4a2-65ee4984075b",
   "metadata": {},
   "outputs": [
    {
     "ename": "TypeError",
     "evalue": "'module' object is not callable",
     "output_type": "error",
     "traceback": [
      "\u001b[1;31m---------------------------------------------------------------------------\u001b[0m",
      "\u001b[1;31mTypeError\u001b[0m                                 Traceback (most recent call last)",
      "\u001b[1;32m<ipython-input-1-52f8ddb732e3>\u001b[0m in \u001b[0;36m<module>\u001b[1;34m\u001b[0m\n\u001b[0;32m      1\u001b[0m \u001b[1;32mimport\u001b[0m \u001b[0mdatetime\u001b[0m\u001b[1;33m\u001b[0m\u001b[1;33m\u001b[0m\u001b[0m\n\u001b[1;32m----> 2\u001b[1;33m \u001b[0mt\u001b[0m \u001b[1;33m=\u001b[0m \u001b[0mdatetime\u001b[0m\u001b[1;33m(\u001b[0m\u001b[1;36m2022\u001b[0m\u001b[1;33m,\u001b[0m\u001b[1;36m4\u001b[0m\u001b[1;33m,\u001b[0m\u001b[1;36m22\u001b[0m\u001b[1;33m)\u001b[0m\u001b[1;33m\u001b[0m\u001b[1;33m\u001b[0m\u001b[0m\n\u001b[0m\u001b[0;32m      3\u001b[0m \u001b[0mt\u001b[0m\u001b[1;33m\u001b[0m\u001b[1;33m\u001b[0m\u001b[0m\n",
      "\u001b[1;31mTypeError\u001b[0m: 'module' object is not callable"
     ]
    }
   ],
   "source": [
    "import datetime\n",
    "t = datetime(2022,4,22)\n",
    "t"
   ]
  },
  {
   "cell_type": "code",
   "execution_count": 5,
   "id": "62608ba1-7344-499b-917c-9f96fbecdc64",
   "metadata": {},
   "outputs": [
    {
     "name": "stdout",
     "output_type": "stream",
     "text": [
      "[*********************100%***********************]  1 of 1 completed\n",
      "Annualized mean: -10.26%\n",
      "Annualized standard deviation: 35.35%\n"
     ]
    }
   ],
   "source": [
    "# Define the start and end dates\n",
    "import datetime\n",
    "import yfinance as yf\n",
    "import numpy as np\n",
    "start = datetime.datetime(2022, 3, 1)\n",
    "end = datetime.datetime(2023, 3, 1)\n",
    "\n",
    "# Fetch the historical stock data for AAPL from Yahoo Finance\n",
    "symbol = 'AAPL'\n",
    "df = yf.download(symbol, start=start, end=end)\n",
    "\n",
    "# Calculate the daily log returns\n",
    "df['log_return'] = np.log(df['Close'] / df['Close'].shift(1))\n",
    "\n",
    "# Calculate the annualized mean and standard deviation of daily log returns\n",
    "mu = df['log_return'].mean() * 252\n",
    "sigma = df['log_return'].std() * np.sqrt(252)\n",
    "\n",
    "print(f\"Annualized mean: {mu:.2%}\")\n",
    "print(f\"Annualized standard deviation: {sigma:.2%}\")"
   ]
  },
  {
   "cell_type": "code",
   "execution_count": 7,
   "id": "65eb4e1f-5855-4aee-9406-a313949637fe",
   "metadata": {},
   "outputs": [
    {
     "name": "stdout",
     "output_type": "stream",
     "text": [
      "[*********************100%***********************]  1 of 1 completed\n"
     ]
    },
    {
     "data": {
      "text/plain": [
       "0.35346595330837116"
      ]
     },
     "execution_count": 7,
     "metadata": {},
     "output_type": "execute_result"
    }
   ],
   "source": [
    "data = yf.download(symbol, start=start, end=end)\n",
    "data['Log returns'] = np.log(data['Close']/data['Close'].shift())\n",
    "data['Log returns'].std()\n",
    "volatility = data['Log returns'].std()*252**.5\n",
    "volatility"
   ]
  },
  {
   "cell_type": "code",
   "execution_count": null,
   "id": "d460725a-2860-4cc1-afa2-1b184b0dcf63",
   "metadata": {},
   "outputs": [],
   "source": []
  }
 ],
 "metadata": {
  "kernelspec": {
   "display_name": "Python 3",
   "language": "python",
   "name": "python3"
  },
  "language_info": {
   "codemirror_mode": {
    "name": "ipython",
    "version": 3
   },
   "file_extension": ".py",
   "mimetype": "text/x-python",
   "name": "python",
   "nbconvert_exporter": "python",
   "pygments_lexer": "ipython3",
   "version": "3.8.8"
  }
 },
 "nbformat": 4,
 "nbformat_minor": 5
}
